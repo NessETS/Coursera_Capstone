https://gist.github.com/NezzEf/855f352f8eb44dde0dc7b435c17f774a#file-capstoneproject-ipynb
